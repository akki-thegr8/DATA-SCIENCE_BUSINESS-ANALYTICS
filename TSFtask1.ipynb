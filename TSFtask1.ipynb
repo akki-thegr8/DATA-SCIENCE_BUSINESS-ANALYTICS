{
 "cells": [
  {
   "cell_type": "markdown",
   "id": "60f4840b-ba87-488a-a3a0-257ace746d67",
   "metadata": {},
   "source": [
    "# SIMPLE LINEAR REGRESSION - GRIP-Data Science and Business Analytics-JAN-2022\n",
    "In this Task we will use Simple Linear Regression to predict the the percentage of score obtained by the student based on the number of hours he/she has studied.\n"
   ]
  },
  {
   "cell_type": "markdown",
   "id": "e97c9157-b21d-401e-b494-d0b1513d2b93",
   "metadata": {},
   "source": [
    "## Importing all libraries required in this notebook to perform the task"
   ]
  },
  {
   "cell_type": "code",
   "execution_count": 1,
   "id": "8a5bda82-8669-4325-b919-a400d8f0ead9",
   "metadata": {},
   "outputs": [],
   "source": [
    "import numpy as np \n",
    "import pandas as pd \n",
    "from scipy import stats\n",
    "import matplotlib.pyplot as plt\n",
    "import seaborn as sns\n",
    "from sklearn.linear_model import LinearRegression\n",
    "from sklearn.model_selection import train_test_split\n",
    "%matplotlib inline"
   ]
  },
  {
   "cell_type": "markdown",
   "id": "940848d9-7ba4-47e2-8e08-4b4c57940d99",
   "metadata": {},
   "source": [
    "## Reading the CSV file of the data set"
   ]
  },
  {
   "cell_type": "code",
   "execution_count": 2,
   "id": "8fb7f8d6-3e13-4958-a583-19bf5f6dc3ea",
   "metadata": {},
   "outputs": [
    {
     "data": {
      "text/html": [
       "<div>\n",
       "<style scoped>\n",
       "    .dataframe tbody tr th:only-of-type {\n",
       "        vertical-align: middle;\n",
       "    }\n",
       "\n",
       "    .dataframe tbody tr th {\n",
       "        vertical-align: top;\n",
       "    }\n",
       "\n",
       "    .dataframe thead th {\n",
       "        text-align: right;\n",
       "    }\n",
       "</style>\n",
       "<table border=\"1\" class=\"dataframe\">\n",
       "  <thead>\n",
       "    <tr style=\"text-align: right;\">\n",
       "      <th></th>\n",
       "      <th>Hours</th>\n",
       "      <th>Scores</th>\n",
       "    </tr>\n",
       "  </thead>\n",
       "  <tbody>\n",
       "    <tr>\n",
       "      <th>0</th>\n",
       "      <td>2.5</td>\n",
       "      <td>21</td>\n",
       "    </tr>\n",
       "    <tr>\n",
       "      <th>1</th>\n",
       "      <td>5.1</td>\n",
       "      <td>47</td>\n",
       "    </tr>\n",
       "    <tr>\n",
       "      <th>2</th>\n",
       "      <td>3.2</td>\n",
       "      <td>27</td>\n",
       "    </tr>\n",
       "    <tr>\n",
       "      <th>3</th>\n",
       "      <td>8.5</td>\n",
       "      <td>75</td>\n",
       "    </tr>\n",
       "    <tr>\n",
       "      <th>4</th>\n",
       "      <td>3.5</td>\n",
       "      <td>30</td>\n",
       "    </tr>\n",
       "    <tr>\n",
       "      <th>5</th>\n",
       "      <td>1.5</td>\n",
       "      <td>20</td>\n",
       "    </tr>\n",
       "    <tr>\n",
       "      <th>6</th>\n",
       "      <td>9.2</td>\n",
       "      <td>88</td>\n",
       "    </tr>\n",
       "    <tr>\n",
       "      <th>7</th>\n",
       "      <td>5.5</td>\n",
       "      <td>60</td>\n",
       "    </tr>\n",
       "    <tr>\n",
       "      <th>8</th>\n",
       "      <td>8.3</td>\n",
       "      <td>81</td>\n",
       "    </tr>\n",
       "    <tr>\n",
       "      <th>9</th>\n",
       "      <td>2.7</td>\n",
       "      <td>25</td>\n",
       "    </tr>\n",
       "    <tr>\n",
       "      <th>10</th>\n",
       "      <td>7.7</td>\n",
       "      <td>85</td>\n",
       "    </tr>\n",
       "    <tr>\n",
       "      <th>11</th>\n",
       "      <td>5.9</td>\n",
       "      <td>62</td>\n",
       "    </tr>\n",
       "    <tr>\n",
       "      <th>12</th>\n",
       "      <td>4.5</td>\n",
       "      <td>41</td>\n",
       "    </tr>\n",
       "    <tr>\n",
       "      <th>13</th>\n",
       "      <td>3.3</td>\n",
       "      <td>42</td>\n",
       "    </tr>\n",
       "    <tr>\n",
       "      <th>14</th>\n",
       "      <td>1.1</td>\n",
       "      <td>17</td>\n",
       "    </tr>\n",
       "    <tr>\n",
       "      <th>15</th>\n",
       "      <td>8.9</td>\n",
       "      <td>95</td>\n",
       "    </tr>\n",
       "    <tr>\n",
       "      <th>16</th>\n",
       "      <td>2.5</td>\n",
       "      <td>30</td>\n",
       "    </tr>\n",
       "    <tr>\n",
       "      <th>17</th>\n",
       "      <td>1.9</td>\n",
       "      <td>24</td>\n",
       "    </tr>\n",
       "    <tr>\n",
       "      <th>18</th>\n",
       "      <td>6.1</td>\n",
       "      <td>67</td>\n",
       "    </tr>\n",
       "    <tr>\n",
       "      <th>19</th>\n",
       "      <td>7.4</td>\n",
       "      <td>69</td>\n",
       "    </tr>\n",
       "    <tr>\n",
       "      <th>20</th>\n",
       "      <td>2.7</td>\n",
       "      <td>30</td>\n",
       "    </tr>\n",
       "    <tr>\n",
       "      <th>21</th>\n",
       "      <td>4.8</td>\n",
       "      <td>54</td>\n",
       "    </tr>\n",
       "    <tr>\n",
       "      <th>22</th>\n",
       "      <td>3.8</td>\n",
       "      <td>35</td>\n",
       "    </tr>\n",
       "    <tr>\n",
       "      <th>23</th>\n",
       "      <td>6.9</td>\n",
       "      <td>76</td>\n",
       "    </tr>\n",
       "    <tr>\n",
       "      <th>24</th>\n",
       "      <td>7.8</td>\n",
       "      <td>86</td>\n",
       "    </tr>\n",
       "  </tbody>\n",
       "</table>\n",
       "</div>"
      ],
      "text/plain": [
       "    Hours  Scores\n",
       "0     2.5      21\n",
       "1     5.1      47\n",
       "2     3.2      27\n",
       "3     8.5      75\n",
       "4     3.5      30\n",
       "5     1.5      20\n",
       "6     9.2      88\n",
       "7     5.5      60\n",
       "8     8.3      81\n",
       "9     2.7      25\n",
       "10    7.7      85\n",
       "11    5.9      62\n",
       "12    4.5      41\n",
       "13    3.3      42\n",
       "14    1.1      17\n",
       "15    8.9      95\n",
       "16    2.5      30\n",
       "17    1.9      24\n",
       "18    6.1      67\n",
       "19    7.4      69\n",
       "20    2.7      30\n",
       "21    4.8      54\n",
       "22    3.8      35\n",
       "23    6.9      76\n",
       "24    7.8      86"
      ]
     },
     "execution_count": 2,
     "metadata": {},
     "output_type": "execute_result"
    }
   ],
   "source": [
    "url_data=\"http://bit.ly/w-data\"\n",
    "data=pd.read_csv(url_data)\n",
    "# Taking a look at the first few rows :\n",
    "data"
   ]
  },
  {
   "cell_type": "markdown",
   "id": "0e98a0cb-82a0-4dc5-b96e-cbb314b0b8a6",
   "metadata": {},
   "source": [
    "## Data Analysis : To find the shape and check for null values"
   ]
  },
  {
   "cell_type": "code",
   "execution_count": 39,
   "id": "dbeaa642-5694-4d79-a006-8dd5572a21d7",
   "metadata": {},
   "outputs": [
    {
     "name": "stdout",
     "output_type": "stream",
     "text": [
      "dimension of student_score dataset : (m,n) = (25, 2)\n"
     ]
    }
   ],
   "source": [
    "#To check the dimension of the data set\n",
    "(m,n)=data.shape\n",
    "print(\"dimension of student_score dataset : (m,n) =\",(m,n))"
   ]
  },
  {
   "cell_type": "code",
   "execution_count": 7,
   "id": "28842d1d-eeb5-4441-87d8-ad7e60b23116",
   "metadata": {},
   "outputs": [
    {
     "name": "stdout",
     "output_type": "stream",
     "text": [
      "<class 'pandas.core.frame.DataFrame'>\n",
      "RangeIndex: 25 entries, 0 to 24\n",
      "Data columns (total 2 columns):\n",
      " #   Column  Non-Null Count  Dtype  \n",
      "---  ------  --------------  -----  \n",
      " 0   Hours   25 non-null     float64\n",
      " 1   Scores  25 non-null     int64  \n",
      "dtypes: float64(1), int64(1)\n",
      "memory usage: 528.0 bytes\n"
     ]
    }
   ],
   "source": [
    "#To check for null values in data set\n",
    "data.info()"
   ]
  },
  {
   "cell_type": "code",
   "execution_count": 8,
   "id": "ae0aab2f-5ef9-40e8-b3f3-97c237a3f1ea",
   "metadata": {},
   "outputs": [
    {
     "data": {
      "text/html": [
       "<div>\n",
       "<style scoped>\n",
       "    .dataframe tbody tr th:only-of-type {\n",
       "        vertical-align: middle;\n",
       "    }\n",
       "\n",
       "    .dataframe tbody tr th {\n",
       "        vertical-align: top;\n",
       "    }\n",
       "\n",
       "    .dataframe thead th {\n",
       "        text-align: right;\n",
       "    }\n",
       "</style>\n",
       "<table border=\"1\" class=\"dataframe\">\n",
       "  <thead>\n",
       "    <tr style=\"text-align: right;\">\n",
       "      <th></th>\n",
       "      <th>Hours</th>\n",
       "      <th>Scores</th>\n",
       "    </tr>\n",
       "  </thead>\n",
       "  <tbody>\n",
       "    <tr>\n",
       "      <th>count</th>\n",
       "      <td>25.000000</td>\n",
       "      <td>25.000000</td>\n",
       "    </tr>\n",
       "    <tr>\n",
       "      <th>mean</th>\n",
       "      <td>5.012000</td>\n",
       "      <td>51.480000</td>\n",
       "    </tr>\n",
       "    <tr>\n",
       "      <th>std</th>\n",
       "      <td>2.525094</td>\n",
       "      <td>25.286887</td>\n",
       "    </tr>\n",
       "    <tr>\n",
       "      <th>min</th>\n",
       "      <td>1.100000</td>\n",
       "      <td>17.000000</td>\n",
       "    </tr>\n",
       "    <tr>\n",
       "      <th>25%</th>\n",
       "      <td>2.700000</td>\n",
       "      <td>30.000000</td>\n",
       "    </tr>\n",
       "    <tr>\n",
       "      <th>50%</th>\n",
       "      <td>4.800000</td>\n",
       "      <td>47.000000</td>\n",
       "    </tr>\n",
       "    <tr>\n",
       "      <th>75%</th>\n",
       "      <td>7.400000</td>\n",
       "      <td>75.000000</td>\n",
       "    </tr>\n",
       "    <tr>\n",
       "      <th>max</th>\n",
       "      <td>9.200000</td>\n",
       "      <td>95.000000</td>\n",
       "    </tr>\n",
       "  </tbody>\n",
       "</table>\n",
       "</div>"
      ],
      "text/plain": [
       "           Hours     Scores\n",
       "count  25.000000  25.000000\n",
       "mean    5.012000  51.480000\n",
       "std     2.525094  25.286887\n",
       "min     1.100000  17.000000\n",
       "25%     2.700000  30.000000\n",
       "50%     4.800000  47.000000\n",
       "75%     7.400000  75.000000\n",
       "max     9.200000  95.000000"
      ]
     },
     "execution_count": 8,
     "metadata": {},
     "output_type": "execute_result"
    }
   ],
   "source": [
    "#Description of data set\n",
    "data.describe()"
   ]
  },
  {
   "cell_type": "code",
   "execution_count": 33,
   "id": "eacec4ee-7f55-4ae9-9871-ae6b52771caf",
   "metadata": {},
   "outputs": [
    {
     "data": {
      "image/png": "[encoded data removed]",
      "text/plain": [
       "<Figure size 720x360 with 2 Axes>"
      ]
     },
     "metadata": {
      "needs_background": "light"
     },
     "output_type": "display_data"
    }
   ],
   "source": [
    "fig, axs = plt.subplots(nrows=1, ncols=2, figsize=(10,5))\n",
    "axs[0].hist(data['Hours'],bins=30,color='y')\n",
    "axs[1].hist(data['Scores'],bins=30,color='b')\n",
    "axs[0].title.set_text('StudyHours vs Frequency')\n",
    "axs[1].title.set_text('Scores vs Frequency')\n",
    "plt.show()"
   ]
  },
  {
   "cell_type": "markdown",
   "id": "5e0f65a6-0509-4acf-9d6a-885f4b31bb9a",
   "metadata": {},
   "source": [
    "## Visualization of Data "
   ]
  },
  {
   "cell_type": "code",
   "execution_count": 26,
   "id": "c496d645-fb92-4baa-a6b6-1875c3108cd0",
   "metadata": {},
   "outputs": [
    {
     "data": {
      "text/plain": [
       "<Figure size 360x360 with 0 Axes>"
      ]
     },
     "metadata": {},
     "output_type": "display_data"
    },
    {
     "data": {
      "image/png": "[encoded data removed]",
      "text/plain": [
       "<Figure size 432x288 with 1 Axes>"
      ]
     },
     "metadata": {
      "needs_background": "light"
     },
     "output_type": "display_data"
    }
   ],
   "source": [
    "fig1=plt.figure(figsize=(5,5))\n",
    "data.plot(x=\"Hours\",y=\"Scores\", style='+')\n",
    "plt.xlabel(\"Hours studied\")\n",
    "plt.ylabel(\"Percentage Score of student\")\n",
    "plt.title(\"StudyHours vs Percentage Score\")\n",
    "plt.show()"
   ]
  },
  {
   "cell_type": "markdown",
   "id": "9a335dde-25f7-401b-acb5-7deaf18849ef",
   "metadata": {},
   "source": [
    "## Correlation of data :"
   ]
  },
  {
   "cell_type": "code",
   "execution_count": 43,
   "id": "af7df8e1-fb85-4cad-9ad1-dbc2e20b84bb",
   "metadata": {},
   "outputs": [
    {
     "name": "stdout",
     "output_type": "stream",
     "text": [
      "correlation coefficient :  0.9761906560220885\n",
      "b_value :  9.132624467459842e-17\n"
     ]
    }
   ],
   "source": [
    "a,b_value=stats.pearsonr(data.Hours,data.Scores)\n",
    "print(\"correlation coefficient : \",a)\n",
    "print(\"b_value : \",b_value)"
   ]
  },
  {
   "cell_type": "code",
   "execution_count": 34,
   "id": "64dd02a2-79ae-4cf3-99fd-643a33e8e893",
   "metadata": {},
   "outputs": [
    {
     "data": {
      "image/png": "[encoded data removed]",
      "text/plain": [
       "<Figure size 432x288 with 2 Axes>"
      ]
     },
     "metadata": {
      "needs_background": "light"
     },
     "output_type": "display_data"
    }
   ],
   "source": [
    "corr_matrix=data.corr()\n",
    "sns.heatmap(corr_matrix,annot=True)\n",
    "plt.title(\"Correlation matrix\")\n",
    "plt.show()"
   ]
  },
  {
   "cell_type": "code",
   "execution_count": 56,
   "id": "1baef474-ef4f-44bc-8626-c16670d90500",
   "metadata": {},
   "outputs": [
    {
     "data": {
      "image/png": "[encoded data removed]",
      "text/plain": [
       "<Figure size 432x288 with 1 Axes>"
      ]
     },
     "metadata": {
      "needs_background": "light"
     },
     "output_type": "display_data"
    }
   ],
   "source": [
    "#To draw the realtionship between hours studied and percentage scores\n",
    "sns.regplot(x=\"Hours\",y=\"Scores\",data=data,color='y')\n",
    "plt.show()"
   ]
  },
  {
   "cell_type": "markdown",
   "id": "f2e93f63-b043-4595-8c5b-8b9df897994c",
   "metadata": {},
   "source": [
    "## To train Linear Model"
   ]
  },
  {
   "cell_type": "code",
   "execution_count": 40,
   "id": "0524a6f0-9175-4b7d-ad08-1d442f2c86a4",
   "metadata": {},
   "outputs": [],
   "source": [
    "#To separate the testset and trainset \n",
    "X=data.iloc[:,0:n-1]\n",
    "y=data.iloc[:,n-1]"
   ]
  },
  {
   "cell_type": "code",
   "execution_count": 41,
   "id": "4d1f305e-736f-4d4b-a9e4-b95cfb46ea84",
   "metadata": {},
   "outputs": [],
   "source": [
    "#Spliting the Hours_Score Dataset (80% (trainset) and 20% (testset))\n",
    "X_train, X_test, y_train, y_test=train_test_split(X,y,test_size=0.2, random_state=90)"
   ]
  },
  {
   "cell_type": "code",
   "execution_count": 42,
   "id": "9c6fb6c0-a831-44dd-a7d7-da66ad014fa1",
   "metadata": {},
   "outputs": [
    {
     "name": "stdout",
     "output_type": "stream",
     "text": [
      "done\n"
     ]
    }
   ],
   "source": [
    "#Creating the model and fit it\n",
    "model=LinearRegression().fit(X_train,y_train)\n",
    "print(\"done\")"
   ]
  },
  {
   "cell_type": "code",
   "execution_count": 44,
   "id": "5785fbc8-601e-4fef-932d-0caf047ca835",
   "metadata": {},
   "outputs": [
    {
     "name": "stdout",
     "output_type": "stream",
     "text": [
      "coefficient of determination (Training Score): 0.9515256300683571\n"
     ]
    }
   ],
   "source": [
    "b_training=model.score(X_train,y_train)\n",
    "print(\"coefficient of determination (Training Score):\",b_training)"
   ]
  },
  {
   "cell_type": "code",
   "execution_count": 46,
   "id": "42b8a29f-22a9-42fa-9a91-4486b5e45167",
   "metadata": {},
   "outputs": [
    {
     "data": {
      "text/plain": [
       "Text(0.5, 1.0, 'StudyHours vs Score (Training Set)')"
      ]
     },
     "execution_count": 46,
     "metadata": {},
     "output_type": "execute_result"
    },
    {
     "data": {
      "image/png": "[encoded data removed]",
      "text/plain": [
       "<Figure size 360x360 with 1 Axes>"
      ]
     },
     "metadata": {
      "needs_background": "light"
     },
     "output_type": "display_data"
    }
   ],
   "source": [
    "#Drawing the best fit Line on the training set :\n",
    "y_predict=model.predict(X_train)\n",
    "fig=plt.figure(figsize=(5,5))\n",
    "plt.scatter(X_train,y_train)\n",
    "plt.plot(X_train,y_predict,c=\"y\")\n",
    "plt.xlabel(\"Hours studied\")\n",
    "plt.ylabel(\"Percentage Score of studen\")\n",
    "plt.title(\"StudyHours vs Score (Training Set)\")"
   ]
  },
  {
   "cell_type": "markdown",
   "id": "c9da5668-e94b-46e8-ba29-b9c21134cf1d",
   "metadata": {},
   "source": [
    "## Predictions to be done on the Test Set"
   ]
  },
  {
   "cell_type": "code",
   "execution_count": 47,
   "id": "198f5e76-6392-4d71-bc38-0c63ebeb4af9",
   "metadata": {},
   "outputs": [],
   "source": [
    "y_test_pred=model.predict(X_test)"
   ]
  },
  {
   "cell_type": "code",
   "execution_count": 50,
   "id": "c90313e3-3652-4f5f-ac74-dc2678b6a7dc",
   "metadata": {},
   "outputs": [
    {
     "name": "stdout",
     "output_type": "stream",
     "text": [
      "Coefficient of determination (Test Score): 0.9515256300683571\n"
     ]
    }
   ],
   "source": [
    "b_test=model.score(X_test,y_test)\n",
    "print(\"Coefficient of determination (Test Score):\",b_training)\n"
   ]
  },
  {
   "cell_type": "code",
   "execution_count": 51,
   "id": "393bbb96-a8ec-466f-9360-39f839642c65",
   "metadata": {},
   "outputs": [
    {
     "data": {
      "text/html": [
       "<div>\n",
       "<style scoped>\n",
       "    .dataframe tbody tr th:only-of-type {\n",
       "        vertical-align: middle;\n",
       "    }\n",
       "\n",
       "    .dataframe tbody tr th {\n",
       "        vertical-align: top;\n",
       "    }\n",
       "\n",
       "    .dataframe thead th {\n",
       "        text-align: right;\n",
       "    }\n",
       "</style>\n",
       "<table border=\"1\" class=\"dataframe\">\n",
       "  <thead>\n",
       "    <tr style=\"text-align: right;\">\n",
       "      <th></th>\n",
       "      <th>Actual</th>\n",
       "      <th>predicted</th>\n",
       "    </tr>\n",
       "  </thead>\n",
       "  <tbody>\n",
       "    <tr>\n",
       "      <th>1</th>\n",
       "      <td>47</td>\n",
       "      <td>52.260012</td>\n",
       "    </tr>\n",
       "    <tr>\n",
       "      <th>22</th>\n",
       "      <td>35</td>\n",
       "      <td>39.779853</td>\n",
       "    </tr>\n",
       "    <tr>\n",
       "      <th>21</th>\n",
       "      <td>54</td>\n",
       "      <td>49.379976</td>\n",
       "    </tr>\n",
       "    <tr>\n",
       "      <th>20</th>\n",
       "      <td>30</td>\n",
       "      <td>29.219719</td>\n",
       "    </tr>\n",
       "    <tr>\n",
       "      <th>15</th>\n",
       "      <td>95</td>\n",
       "      <td>88.740476</td>\n",
       "    </tr>\n",
       "  </tbody>\n",
       "</table>\n",
       "</div>"
      ],
      "text/plain": [
       "    Actual  predicted\n",
       "1       47  52.260012\n",
       "22      35  39.779853\n",
       "21      54  49.379976\n",
       "20      30  29.219719\n",
       "15      95  88.740476"
      ]
     },
     "execution_count": 51,
     "metadata": {},
     "output_type": "execute_result"
    }
   ],
   "source": [
    "#Comparing Actual and predicted\n",
    "Comp=pd.DataFrame({'Actual':y_test,'predicted':y_test_pred})\n",
    "Comp"
   ]
  },
  {
   "cell_type": "code",
   "execution_count": 54,
   "id": "eec0a49b-9fd6-4735-9ed2-6e70a48b0f10",
   "metadata": {},
   "outputs": [
    {
     "data": {
      "text/plain": [
       "Text(0.5, 1.0, 'StudyHours vs Score (Test set)')"
      ]
     },
     "execution_count": 54,
     "metadata": {},
     "output_type": "execute_result"
    },
    {
     "data": {
      "image/png": "[encoded data removed]",
      "text/plain": [
       "<Figure size 360x360 with 1 Axes>"
      ]
     },
     "metadata": {
      "needs_background": "light"
     },
     "output_type": "display_data"
    }
   ],
   "source": [
    "#Drawing the fit line on the test set\n",
    "fig=plt.figure(figsize=(5,5))\n",
    "plt.scatter(X_test,y_test)\n",
    "plt.plot(X_test,y_test_pred,c=\"y\")\n",
    "plt.xlabel(\"Hours studied\")\n",
    "plt.ylabel(\"Percentage score of student\")\n",
    "plt.title(\"StudyHours vs Score (Test set)\")\n"
   ]
  },
  {
   "cell_type": "markdown",
   "id": "0b6bf5f2-cc97-468b-a073-237e89d8418c",
   "metadata": {},
   "source": [
    "## To predict the score of a student who studies for 9.25hours per day"
   ]
  },
  {
   "cell_type": "code",
   "execution_count": 58,
   "id": "713a954c-b1db-439f-a33d-9c8166dc1691",
   "metadata": {},
   "outputs": [
    {
     "name": "stdout",
     "output_type": "stream",
     "text": [
      " If a student studies for 9.25 hours/day,he will probably score : 92.10 %\n"
     ]
    }
   ],
   "source": [
    "per_score = model.predict([[9.25]])[0]\n",
    "print(\" If a student studies for 9.25 hours/day,he will probably score : {:.2f} %\".format(per_score))"
   ]
  },
  {
   "cell_type": "code",
   "execution_count": null,
   "id": "2747dd0c-7ba9-4f08-8445-f55e8d7f3958",
   "metadata": {},
   "outputs": [],
   "source": []
  }
 ],
 "metadata": {
  "kernelspec": {
   "display_name": "Python 3 (ipykernel)",
   "language": "python",
   "name": "python3"
  },
  "language_info": {
   "codemirror_mode": {
    "name": "ipython",
    "version": 3
   },
   "file_extension": ".py",
   "mimetype": "text/x-python",
   "name": "python",
   "nbconvert_exporter": "python",
   "pygments_lexer": "ipython3",
   "version": "3.9.7"
  }
 },
 "nbformat": 4,
 "nbformat_minor": 5
}
